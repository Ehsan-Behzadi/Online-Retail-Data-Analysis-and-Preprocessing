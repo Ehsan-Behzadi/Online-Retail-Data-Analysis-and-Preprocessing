{
 "cells": [
  {
   "cell_type": "markdown",
   "metadata": {},
   "source": [
    "<h1>Table of Contents</h1>\n",
    "\n",
    "<div class=\"alert alert-block alert-info\" style=\"margin-top: 20px\">\n",
    "    <ol>\n",
    "        <li><a href=\"#import_libraries\">Import Libraries</a></li>\n",
    "        <li><a href=\"#import_dataset\">Import \"Online Retail\" Dataset</a></li>\n",
    "        <li><a href=\"#information\">Information about the Dataset</a></li>\n",
    "        <li><a href=\"#pre-processing\">Pre-processing</a></li>\n",
    "        <li><a href=\"#eda\">Exploratory Data Analysis (EDA)</a></li>                 \n",
    "    </ol>\n",
    "</div>\n",
    "<br>\n",
    "<hr>"
   ]
  },
  {
   "cell_type": "markdown",
   "metadata": {},
   "source": [
    "<div id=\"import_libraries\"> \n",
    "    <h2>Import Libraries</h2>    \n",
    "</div>"
   ]
  },
  {
   "cell_type": "code",
   "execution_count": null,
   "metadata": {},
   "outputs": [],
   "source": [
    "import pandas as pd\n",
    "import numpy as np\n",
    "from scipy import stats\n",
    "import matplotlib.pyplot as plt  \n",
    "import seaborn as sns\n",
    "import matplotlib.dates as mdates\n",
    "\n",
    "import warnings\n",
    "warnings.filterwarnings(\"ignore\")"
   ]
  },
  {
   "cell_type": "markdown",
   "metadata": {},
   "source": [
    "<hr>\n",
    "<div id=\"import_dataset\"> \n",
    "    <h2>Import \"Online Retail\" Dataset</h2>         \n",
    "</div>"
   ]
  },
  {
   "cell_type": "markdown",
   "metadata": {},
   "source": [
    "### Overview of the Online Retail Dataset  \n",
    "\n",
    "The **\"Online Retail\"** dataset is commonly used for data analysis in e-commerce, featuring the following attributes:  \n",
    "\n",
    "- **InvoiceNo**: Unique transaction identifier, grouping items purchased together.  \n",
    "- **StockCode**: Unique product identifier, useful for tracking sales and inventory.  \n",
    "- **Description**: Textual description of products, aiding in understanding product types and preferences.  \n",
    "- **Quantity**: Number of units sold in a transaction, important for analyzing sales volume.  \n",
    "- **InvoiceDate**: Date and time of the transaction, crucial for time series and sales trend analysis.  \n",
    "- **UnitPrice**: Price per unit, vital for revenue calculations and pricing strategies.  \n",
    "- **CustomerID**: Unique customer identifier, valuable for customer behavior analysis and segmentation.  \n",
    "- **Country**: Customer location, helping in geographic market analysis.  \n",
    "\n",
    "### Uses of the Dataset  \n",
    "\n",
    "1. **Sales Analysis**: Identifying bestsellers and trends.  \n",
    "2. **Customer Segmentation**: Clustering based on buying behavior.  \n",
    "3. **Inventory Management**: Optimizing stock levels and turnover.  \n",
    "4. **Market Basket Analysis**: Understanding product bundling.  \n",
    "5. **Predictive Modeling**: Forecasting future sales and behavior.  \n",
    "6. **Time Series Analysis**: Modeling sales trends over time.  \n",
    "\n",
    "With 541,909 observations, this dataset offers rich insights for informed decision-making in retail."
   ]
  },
  {
   "cell_type": "code",
   "execution_count": null,
   "metadata": {},
   "outputs": [],
   "source": [
    "# Load the dataset\n",
    "or_df = pd.read_excel('Online_Retail.xlsx')\n",
    "\n",
    "display(or_df.head())"
   ]
  },
  {
   "cell_type": "markdown",
   "metadata": {},
   "source": [
    "<hr>\n",
    "<div id=\"information\"> \n",
    "    <h2>Information about the Dataset</h2>    \n",
    "</div>"
   ]
  },
  {
   "cell_type": "code",
   "execution_count": null,
   "metadata": {},
   "outputs": [],
   "source": [
    "# Get the shape of the dataset, which returns the number of rows and columns\n",
    "shape_of_the_dataset = or_df.shape\n",
    "print(\"\\nThe shape of the dataset -->\", shape_of_the_dataset)"
   ]
  },
  {
   "cell_type": "code",
   "execution_count": null,
   "metadata": {},
   "outputs": [],
   "source": [
    "# Show summary statistics for the dataset\n",
    "# This includes count, mean, standard deviation, minimum, 25%, 50%, 75%, and maximum values for numeric columns\n",
    "# This includes count, unique(the number of unique values), top(the mode) and the frequency of the top value for object columns\n",
    "print('\\nThe dataset description:\\n')\n",
    "\n",
    "data_describe = or_df.describe(include = 'all')\n",
    "display(data_describe)"
   ]
  },
  {
   "cell_type": "code",
   "execution_count": null,
   "metadata": {},
   "outputs": [],
   "source": [
    "# Display a concise summary of the dataset\n",
    "# This summary includes the index dtype, column dtypes, non-null values, and memory usage \n",
    "print('\\nMore information about the dataset:\\n')\n",
    "\n",
    "data_information = or_df.info()\n",
    "display(data_information)"
   ]
  },
  {
   "cell_type": "code",
   "execution_count": null,
   "metadata": {},
   "outputs": [],
   "source": [
    "# Calculate the number of unique values in each column of the dataset\n",
    "print('\\nNumber of unique data in the dataset:\\n')\n",
    "\n",
    "unique_data = or_df.nunique()\n",
    "print(unique_data)"
   ]
  },
  {
   "cell_type": "markdown",
   "metadata": {},
   "source": [
    "<hr>\n",
    "<div id=\"pre-processing\"> \n",
    "    <h2>Pre-processing</h2>    \n",
    "</div>\n",
    "<div>\n",
    "    <ol>\n",
    "        <li><a href=\"#convert_data_types\">Convert Data Types</a></li>\n",
    "        <li><a href=\"#duplicates\">Duplicate Tuples</a></li>\n",
    "        <li><a href=\"#missing_values\">Handling Missing Values</a></li>\n",
    "        <li><a href=\"#filter_out\">Filter Out Unnecessary Data</a></li>        \n",
    "        <li><a href=\"#outliers\">Detecting Outliers (Noise)</a></li>                      \n",
    "    </ol>\n",
    "</div>\n",
    "<br>"
   ]
  },
  {
   "cell_type": "markdown",
   "metadata": {},
   "source": [
    "<hr>\n",
    "<div id=\"convert_data-types\"> \n",
    "    <h2>Convert Data Types</h2>    \n",
    "</div>"
   ]
  },
  {
   "cell_type": "code",
   "execution_count": null,
   "metadata": {},
   "outputs": [],
   "source": [
    "# Convert 'StockCode' column to categorical\n",
    "or_df['StockCode'] = or_df['StockCode'].astype('category')\n",
    "\n",
    "# Convert 'Description' column to categorical   \n",
    "or_df['Description'] = or_df['Description'].astype('category') \n",
    "\n",
    "# Convert 'Country' column to categorical\n",
    "or_df['Country'] = or_df['Country'].astype('category')\n",
    "\n",
    "# Convert 'CustomerID' column to string\n",
    "or_df['CustomerID'] = or_df['CustomerID'].astype('category')\n",
    "\n",
    "# Display the data types for each column after conversion\n",
    "print(\"\\nData types after conversion:\")\n",
    "display(or_df.dtypes)"
   ]
  },
  {
   "cell_type": "markdown",
   "metadata": {},
   "source": [
    "<hr>\n",
    "<div id=\"duplicates\"> \n",
    "    <h2>Duplicate Tuples</h2>    \n",
    "</div>"
   ]
  },
  {
   "cell_type": "code",
   "execution_count": null,
   "metadata": {},
   "outputs": [],
   "source": [
    "# Calculate the number of duplicate rows in the dataframe\n",
    "Num_of_duplicate_rows = or_df.duplicated().sum()\n",
    "print(\"\\nThe number of duplicate rows -->\", Num_of_duplicate_rows)"
   ]
  },
  {
   "cell_type": "code",
   "execution_count": null,
   "metadata": {},
   "outputs": [],
   "source": [
    "# Identify all duplicated rows in the dataframe  \n",
    "# 'duplicated(keep=False)' marks all duplicates (including the first occurrence as True)\n",
    "df_all_duplicate = or_df[or_df.duplicated(keep=False)]\n",
    "print(\"\\nAll the rows and their duplicates:\\n\")\n",
    "display(df_all_duplicate)"
   ]
  },
  {
   "cell_type": "code",
   "execution_count": null,
   "metadata": {},
   "outputs": [],
   "source": [
    "# Identify only the duplicated rows in the dataframe\n",
    "# 'duplicated()' without any parameters, meaning its output only shows the rows that are duplicates and excludes the first occurrences\n",
    "duplicate = or_df[or_df.duplicated()]\n",
    "print(\"\\nJust duplicate rows:\\n\")\n",
    "display(duplicate)"
   ]
  },
  {
   "cell_type": "code",
   "execution_count": null,
   "metadata": {},
   "outputs": [],
   "source": [
    "# Drop all duplicate rows from the dataframe\n",
    "# df_ADD --> df_after dropping duplicates\n",
    "df_ADD = or_df.drop_duplicates()\n",
    "print(\"\\nThe dataset after dropping the duplicate tuples:\\n\")\n",
    "display(df_ADD)"
   ]
  },
  {
   "cell_type": "code",
   "execution_count": null,
   "metadata": {},
   "outputs": [],
   "source": [
    "# Check the shape to see how many duplicate rows were removed  \n",
    "print(f'Dataset shape before dropping rows: {or_df.shape}')\n",
    "print(f'Dataset shape after dropping rows: {df_ADD.shape}')"
   ]
  },
  {
   "cell_type": "markdown",
   "metadata": {},
   "source": [
    "<hr>\n",
    "<div id=\"missing_values\"> \n",
    "    <h2>Handling Missing Values</h2>    \n",
    "</div>\n",
    "<div>\n",
    "    <ol>\n",
    "        <li><a href=\"#bf_ff\">Backward Fill (bfill) and Forward Fill (ffill) methods</a></li>\n",
    "        <li><a href=\"#mode\">The Mode Method</a></li>\n",
    "        <li><a href=\"#combination\">Combination of Both Methods</a></li>             \n",
    "        <li><a href=\"#output\">Output the results</a></li>    \n",
    "    </ol>\n",
    "</div>\n",
    "<br>"
   ]
  },
  {
   "cell_type": "code",
   "execution_count": null,
   "metadata": {},
   "outputs": [],
   "source": [
    "# Check for missing values in the dataframe\n",
    "isna = pd.DataFrame(df_ADD.isna().sum(axis=0))\n",
    "print(isna)"
   ]
  },
  {
   "cell_type": "code",
   "execution_count": null,
   "metadata": {},
   "outputs": [],
   "source": [
    "# Find missing values ​​in other shapes\n",
    "# Define unwanted values and consider them as null/missing  \n",
    "unwanted_values = ['?', '!', '$', 'None', 'null', '', '*'] \n",
    "\n",
    "# Replace unwanted values with NaN   \n",
    "for col in df_ADD.columns: \n",
    "    df_ADD.loc[:, col] = df_ADD[col].replace(unwanted_values, np.nan)"
   ]
  },
  {
   "cell_type": "code",
   "execution_count": null,
   "metadata": {},
   "outputs": [],
   "source": [
    "# Check for any NaN values now present in the dataframe  \n",
    "missing_values_count = df_ADD.isna().sum() \n",
    "\n",
    "# Display the count of missing values for each column  \n",
    "print(\"\\nCount of missing values in each column:\")  \n",
    "print(missing_values_count[missing_values_count > 0])"
   ]
  },
  {
   "cell_type": "code",
   "execution_count": null,
   "metadata": {},
   "outputs": [],
   "source": [
    "# Summary of missing data (percentage of missing values)\n",
    "missing_summary = df_ADD.isnull().mean() * 100\n",
    "print(f\"\\nPercentage of missing values in each column:\\n{missing_summary}\")"
   ]
  },
  {
   "cell_type": "code",
   "execution_count": null,
   "metadata": {},
   "outputs": [],
   "source": [
    "# Display rows with missing values  \n",
    "rows_with_missing = df_ADD[df_ADD.isna().any(axis=1)]  \n",
    "print(\"\\nRows with missing values:\")  \n",
    "display(rows_with_missing)"
   ]
  },
  {
   "cell_type": "markdown",
   "metadata": {},
   "source": [
    "<div id=\"bf_ff\"> \n",
    "    <h2>Backward Fill (bfill) and Forward Fill (ffill) methods</h2>    \n",
    "</div>"
   ]
  },
  {
   "cell_type": "code",
   "execution_count": null,
   "metadata": {},
   "outputs": [],
   "source": [
    "# Fill missing values in 'description' and 'customerID' using forward fill and backward fill\n",
    "df_fill = df_ADD.copy()              # Create a copy of the dataframe\n",
    "  \n",
    "df_fill['Description'] = df_fill['Description'].fillna(method='ffill').fillna(method='bfill')  \n",
    "df_fill['CustomerID'] = df_fill['CustomerID'].fillna(method='ffill').fillna(method='bfill')  \n",
    "\n",
    "# Check if there are still any missing values  \n",
    "print(df_fill[['Description', 'CustomerID']].isnull().sum())  "
   ]
  },
  {
   "cell_type": "markdown",
   "metadata": {},
   "source": [
    "<div id=\"mode\"> \n",
    "    <h2>The Mode Method</h2>    \n",
    "</div>"
   ]
  },
  {
   "cell_type": "code",
   "execution_count": null,
   "metadata": {},
   "outputs": [],
   "source": [
    "# Create a copy of the dataframe\n",
    "df_mode = df_ADD.copy()\n",
    "\n",
    "# Impute missing values in 'Description' column with the mode\n",
    "mode_description = df_mode['Description'].mode()[0]\n",
    "df_mode['Description'].fillna(mode_description, inplace=True)\n",
    "\n",
    "# Impute missing values in 'CustomerID' column with the mode\n",
    "mode_customer_id = df_mode['CustomerID'].mode()[0]\n",
    "df_mode['CustomerID'].fillna(mode_customer_id, inplace=True)\n",
    "\n",
    "# Verify the imputation\n",
    "print(df_mode[['Description', 'CustomerID']].isnull().sum())"
   ]
  },
  {
   "cell_type": "markdown",
   "metadata": {},
   "source": [
    "<div id=\"combination\"> \n",
    "    <h2>Combination of Both Methods</h2>    \n",
    "</div>"
   ]
  },
  {
   "cell_type": "markdown",
   "metadata": {},
   "source": [
    "### Rationale for Combining Mode and Forward/Backward Fill Methods\n",
    "\n",
    "This project focuses on gaining insights into customer behavior, sales performance, and product trends. While imputation methods for missing values can impact data quality, the 'Description' and 'CustomerID' columns hold varying levels of importance relative to our primary analysis.\n",
    "To ensure clarity and robustness in data preprocessing, the following approach was adopted:\n",
    "\n",
    "1. **Mode Imputation for 'Description'**: Given that the 'Description' column had fewer missing values and is less critical for the primary analysis, the mode imputation method was used. This ensures consistency by replacing missing values with the most frequently occurring category.\n",
    "2. **Forward/Backward Fill for 'CustomerID'**: The 'CustomerID' column had a significant number of missing values. Using the forward fill and backward fill methods helps avoid over-representation of a single customer ID, maintaining the temporal relevance and contextual accuracy of our data.\n",
    "\n",
    "By documenting and comparing these methods, the goal is to provide a comprehensive view of the imputation techniques used, allowing for better decision-making and transparency in this analysis."
   ]
  },
  {
   "cell_type": "code",
   "execution_count": null,
   "metadata": {},
   "outputs": [],
   "source": [
    "# Create a copy of the dataframe\n",
    "df_combined = df_ADD.copy()\n",
    "\n",
    "# Impute missing values in 'Description' column with the mode\n",
    "mode_description = df_combined['Description'].mode()[0]\n",
    "df_combined['Description'].fillna(mode_description, inplace=True)\n",
    "\n",
    "# Impute missing values in 'CustomerID' column using forward fill, then backward fill\n",
    "df_combined['CustomerID'].fillna(method='ffill', inplace=True)\n",
    "df_combined['CustomerID'].fillna(method='bfill', inplace=True)\n",
    "\n",
    "# Verify the imputation\n",
    "print(df_combined[['Description', 'CustomerID']].isnull().sum())"
   ]
  },
  {
   "cell_type": "markdown",
   "metadata": {},
   "source": [
    "<div id=\"output\"> \n",
    "    <h2>Output the results</h2>    \n",
    "</div>"
   ]
  },
  {
   "cell_type": "code",
   "execution_count": null,
   "metadata": {},
   "outputs": [],
   "source": [
    "# Descriptive Statistics: Check summary statistics for each dataset to see if there are significant differences\n",
    "print('\\nBaseline outcome: \\n')  \n",
    "display(df_ADD.describe())\n",
    "\n",
    "print('\\nForward Fill/Backward Fill method outcome: \\n') \n",
    "display(df_fill.describe())\n",
    " \n",
    "print('\\nThe mode method outcome: \\n')\n",
    "display(df_mode.describe())\n",
    "\n",
    "print('\\nCombination of both methods outcome: \\n')\n",
    "display(df_combined.describe())"
   ]
  },
  {
   "cell_type": "code",
   "execution_count": null,
   "metadata": {},
   "outputs": [],
   "source": [
    "print(\"\\nContinue working with Combination of both methods after comparing different methods:\\n\")\n",
    "display(df_combined)"
   ]
  },
  {
   "cell_type": "markdown",
   "metadata": {},
   "source": [
    "<hr>\n",
    "<div id=\"filter_out\"> \n",
    "    <h2>Filter Out Unnecessary Data</h2>    \n",
    "</div>"
   ]
  },
  {
   "cell_type": "code",
   "execution_count": null,
   "metadata": {},
   "outputs": [],
   "source": [
    "# Filter out negative quantities\n",
    "df_filter_out = df_combined.copy()              # Create a copy of the dataframe\n",
    "df_filter_out = df_filter_out[df_filter_out['Quantity'] > 0]\n",
    "df_filter_out = df_filter_out[df_filter_out['UnitPrice'] > 0]"
   ]
  },
  {
   "cell_type": "code",
   "execution_count": null,
   "metadata": {},
   "outputs": [],
   "source": [
    "# Check the shape to see how many rows were filtered out\n",
    "print(f'Dataset shape before filter out: {df_combined.shape}')\n",
    "print(f'Dataset shape after filter out: {df_filter_out.shape}')"
   ]
  },
  {
   "cell_type": "markdown",
   "metadata": {},
   "source": [
    "<hr>\n",
    "<div id=\"outliers\"> \n",
    "    <h2>Detecting Outliers (Noise)</h2>    \n",
    "</div>\n",
    "<div>\n",
    "    <ol>\n",
    "        <li><a href=\"#plot-boxplot\">Plot Boxplot</a></li>\n",
    "        <li><a href=\"#z_score\">Z-score method</a></li>          \n",
    "    </ol>\n",
    "</div>\n",
    "<br>"
   ]
  },
  {
   "cell_type": "markdown",
   "metadata": {},
   "source": [
    "<div id=\"plot-boxplot\"> \n",
    "    <h2>Plot Boxplot</h2>    \n",
    "</div>"
   ]
  },
  {
   "cell_type": "code",
   "execution_count": null,
   "metadata": {},
   "outputs": [],
   "source": [
    "# Plot a boxplot to detect outliers in numerical features  \n",
    "# Set up the figure with 1 row and 2 columns for boxplots, sharing the y-axis\n",
    "fig, axes = plt.subplots(1, 2, figsize=(12, 5), sharey=True)        # Set the figure size (width, height)\n",
    "\n",
    "# Create the first boxplot for 'UnitPrice'\n",
    "sns.boxplot(x='UnitPrice', data=df_filter_out, ax=axes[0], \n",
    "            boxprops=dict(facecolor='#d62728', alpha=0.6))\n",
    "axes[0].set_title('Boxplot of UnitPrice')\n",
    "\n",
    "# Create the second boxplot for 'Quantity'\n",
    "sns.boxplot(x='Quantity', data=df_filter_out, ax=axes[1], \n",
    "            boxprops=dict(facecolor='#1f77b4', alpha=0.6))\n",
    "axes[1].set_title('Boxplot of Quantity')\n",
    "\n",
    "plt.tight_layout()         # Adjust the spacing between plots\n",
    "plt.show() \n",
    "  "
   ]
  },
  {
   "cell_type": "markdown",
   "metadata": {},
   "source": [
    "<div id=\"z_score\"> \n",
    "    <h2>Z-score method</h2>    \n",
    "</div>"
   ]
  },
  {
   "cell_type": "code",
   "execution_count": null,
   "metadata": {},
   "outputs": [],
   "source": [
    "# Create a copy of the dataset\n",
    "df_zscore = df_filter_out.copy()                    \n",
    "\n",
    "# Calculate Z-scores for the specified columns  \n",
    "# Z-score indicates how many standard deviations an element is from the mean\n",
    "z_scores = stats.zscore(df_zscore[['Quantity', 'UnitPrice']])  "
   ]
  },
  {
   "cell_type": "code",
   "execution_count": null,
   "metadata": {},
   "outputs": [],
   "source": [
    "# Create a new column 'is_outlier' in the dataset  \n",
    "# Set it to True if any Z-score for the row is greater than 3 or less than -3  \n",
    "# This indicates that the row is an outlier in at least one of the two columns  \n",
    "df_zscore['is_outlier'] = (abs(z_scores) > 3).any(axis=1) "
   ]
  },
  {
   "cell_type": "code",
   "execution_count": null,
   "metadata": {},
   "outputs": [],
   "source": [
    "# Filter the dataset to show only the rows that are identified as outliers  \n",
    "outliers_only = df_zscore[df_zscore['is_outlier']]   \n",
    "\n",
    "# Output of the outliers  \n",
    "display(outliers_only) "
   ]
  },
  {
   "cell_type": "code",
   "execution_count": null,
   "metadata": {},
   "outputs": [],
   "source": [
    "# Dataframe after removing outliers  \n",
    "df_zscore = df_zscore[~df_zscore['is_outlier']]                # Use bitwise NOT to select non-outlier rows  \n",
    "\n",
    "# Reset the index of the final dataset for cleaner indexing  \n",
    "df_zscore.reset_index(drop=True, inplace=True)\n",
    "df_zscore = df_zscore.drop('is_outlier', axis=1)               # Drop 'is_outlier' column\n",
    "\n",
    "# Display the dataset after removing outliers \n",
    "display(df_zscore)"
   ]
  },
  {
   "cell_type": "code",
   "execution_count": null,
   "metadata": {},
   "outputs": [],
   "source": [
    "# Output the shape of the dataset after outlier detection\n",
    "print(f'Dataset shape before removing outliers: {df_filter_out.shape}')\n",
    "print(f'Dataset shape after removing outliers: {df_zscore.shape}')"
   ]
  },
  {
   "cell_type": "markdown",
   "metadata": {},
   "source": [
    "<hr>\n",
    "<div id=\"eda\"> \n",
    "    <h2>Exploratory Data Analysis (EDA)</h2>    \n",
    "</div>\n",
    "<div>\n",
    "    <ol>\n",
    "        <li><a href=\"#visualize-data-distributions\">Visualize Data Distributions</a></li>\n",
    "        <li><a href=\"#explore-relationships\">Explore Relationships</a></li>       \n",
    "        <li><a href=\"#analyze-trends\">Analyze Trends</a></li>\n",
    "        <li><a href=\"#cohort-analysis\">Cohort Analysis</a></li>\n",
    "        <li><a href=\"#time-based-heatmap\">Time-based Heatmap</a></li>        \n",
    "        <li><a href=\"#seasonal-holiday-trends-analysis\">Seasonal & Holiday Trends Analysis</a></li>                          \n",
    "    </ol>\n",
    "</div>\n",
    "<br>"
   ]
  },
  {
   "cell_type": "markdown",
   "metadata": {},
   "source": [
    "<div id=\"visualize-data-distributions\"> \n",
    "    <h2>Visualize Data Distributions</h2>    \n",
    "</div>"
   ]
  },
  {
   "cell_type": "markdown",
   "metadata": {},
   "source": [
    "### Numerical Features "
   ]
  },
  {
   "cell_type": "code",
   "execution_count": null,
   "metadata": {},
   "outputs": [],
   "source": [
    "# Plot a histogram for numerical features\n",
    "# Set up the figure with 1 row and 2 columns for histograms, sharing the y-axis  \n",
    "fig, axes = plt.subplots(1, 2, figsize=(12, 6), sharey=True)                      # Set the figure size (width, height)\n",
    "\n",
    "# Create the first histogram for 'UnitPrice'\n",
    "sns.histplot(df_zscore['UnitPrice'], bins=20, kde=True, color='darkred', ax=axes[0])   # Create histogram for UnitPrice with KDE\n",
    "axes[0].set_title('Histogram of Unit Price')\n",
    "axes[0].set_xlabel('Unit Price')\n",
    "axes[0].set_ylabel('Frequency')   \n",
    "\n",
    "# Create the second histogram for 'Quantity' \n",
    "sns.histplot(df_zscore['Quantity'], bins=20, kde=True, color='darkblue', ax=axes[1])   # Create histogram for Quantity with KDE\n",
    "axes[1].set_title('Histogram of Quantity')\n",
    "axes[1].set_xlabel('Quantity')\n",
    "axes[1].set_ylabel('Frequency')  \n",
    "  \n",
    "plt.tight_layout()           # Adjust the spacing between plots \n",
    "plt.show()   "
   ]
  },
  {
   "cell_type": "markdown",
   "metadata": {},
   "source": [
    "### Categorical Features"
   ]
  },
  {
   "cell_type": "code",
   "execution_count": null,
   "metadata": {},
   "outputs": [],
   "source": [
    "# Plot a bar chart for categorical features --> Country\n",
    "# Count occurrences of each country and sort in descending order  \n",
    "country_counts = df_zscore['Country'].value_counts().reset_index()  \n",
    "country_counts.columns = ['Country', 'Count']                             # Rename columns  \n",
    "country_counts = country_counts.sort_values(by='Count', ascending=False)  # Sort by count\n",
    "\n",
    "# Number of top countries to display (top 10)\n",
    "top_n = 10  \n",
    "country_counts = country_counts.head(top_n)\n",
    "\n",
    "# Set the figure size (width, height)  \n",
    "plt.figure(figsize=(12, 6)) \n",
    "# Create a bar plot for 'Country' counts\n",
    "ax = sns.barplot(data=country_counts, x='Country', y='Count', palette='viridis', order=country_counts['Country'])   \n",
    "\n",
    "# Add value labels on top of each bar\n",
    "for p in ax.patches:\n",
    "    ax.annotate(f'{p.get_height()}', (p.get_x() + p.get_width() / 2, p.get_height()),\n",
    "                ha='center', va='bottom', fontsize=10, color='black', fontweight='bold')    \n",
    "\n",
    "# Set title and labels  \n",
    "plt.title(f'Top {top_n} Countries by Count')    \n",
    "plt.xlabel('')\n",
    "plt.ylabel('')\n",
    "ax.set_yticks([]) \n",
    "plt.xticks(rotation=45, ha='right')         # Rotate x-axis labels for better readability   \n",
    "plt.show()   "
   ]
  },
  {
   "cell_type": "code",
   "execution_count": null,
   "metadata": {},
   "outputs": [],
   "source": [
    "# Plot a bar chart for categorical features --> CustomerID\n",
    "# Count occurrences of each CustomerID and sort in descending order\n",
    "customer_counts = df_zscore['CustomerID'].value_counts().reset_index()\n",
    "customer_counts.columns = ['CustomerID', 'Count']           # Rename columns\n",
    "customer_counts = customer_counts.sort_values(by='Count', ascending=False).head(20)    # Keep top 20 customers\n",
    "\n",
    "# Set the figure size\n",
    "plt.figure(figsize=(14, 6))\n",
    "# Create a bar plot for 'CustomerID' counts\n",
    "ax = sns.barplot(data=customer_counts, x='CustomerID', y='Count', palette='coolwarm', order=customer_counts['CustomerID'])\n",
    "\n",
    "# Add value labels on top of each bar\n",
    "for p in ax.patches:\n",
    "    ax.annotate(f'{p.get_height()}', (p.get_x() + p.get_width() / 2, p.get_height()),\n",
    "                ha='center', va='bottom', fontsize=8, color='black', fontweight='bold')  \n",
    "\n",
    "# Set title and labels\n",
    "plt.title('Top 20 Customers by Purchase Count')  \n",
    "plt.xlabel('')\n",
    "plt.ylabel('')\n",
    "ax.set_yticks([])\n",
    "plt.xticks(rotation=45, ha='right')       # Rotate x-axis labels for better readability\n",
    "plt.show()"
   ]
  },
  {
   "cell_type": "code",
   "execution_count": null,
   "metadata": {},
   "outputs": [],
   "source": [
    "# Plot a bar chart for categorical features --> StockCode\n",
    "# Count occurrences of each StockCode and sort in descending order\n",
    "stock_counts = df_zscore['StockCode'].value_counts().reset_index()\n",
    "stock_counts.columns = ['StockCode', 'Count']         # Rename columns\n",
    "stock_counts = stock_counts.sort_values(by='Count', ascending=False).head(20)    # Keep top 20 best-selling products\n",
    "\n",
    "# Set the figure size\n",
    "plt.figure(figsize=(14, 6))\n",
    "# Create a bar plot for 'StockCode' counts\n",
    "ax = sns.barplot(data=stock_counts, x='StockCode', y='Count', palette='magma', order=stock_counts['StockCode'])\n",
    "\n",
    "# Add value labels on top of each bar\n",
    "for p in ax.patches:\n",
    "    ax.annotate(f'{p.get_height()}', (p.get_x() + p.get_width() / 2, p.get_height()),\n",
    "                ha='center', va='bottom', fontsize=8, color='black', fontweight='bold')\n",
    "\n",
    "# Set title and labels\n",
    "plt.title('Top 20 Best-Selling Products by StockCode')  \n",
    "plt.xlabel('')\n",
    "plt.ylabel('')\n",
    "ax.set_yticks([])\n",
    "plt.xticks(rotation=45, ha='right')       # Rotate x-axis labels for better readability\n",
    "plt.show()"
   ]
  },
  {
   "cell_type": "markdown",
   "metadata": {},
   "source": [
    "<div id=\"explore-relationships\"> \n",
    "    <h2>Explore Relationships</h2>    \n",
    "</div>"
   ]
  },
  {
   "cell_type": "markdown",
   "metadata": {},
   "source": [
    "### Numerical Features"
   ]
  },
  {
   "cell_type": "code",
   "execution_count": null,
   "metadata": {},
   "outputs": [],
   "source": [
    "# Plot a heatmap to explore relationships between variables --> Quantity & UnitPrice\n",
    "# Compute the correlation matrix\n",
    "correlation_matrix = df_zscore[['Quantity', 'UnitPrice']].corr()\n",
    "\n",
    "# Set the figure size\n",
    "plt.figure(figsize=(6, 4))\n",
    "\n",
    "# Create a heatmap\n",
    "sns.heatmap(correlation_matrix, annot=True, cmap='coolwarm', fmt=\".2f\", linewidths=0.5, square=True)\n",
    "\n",
    "# Set title\n",
    "plt.title('Correlation Heatmap')\n",
    "plt.show()"
   ]
  },
  {
   "cell_type": "code",
   "execution_count": null,
   "metadata": {},
   "outputs": [],
   "source": [
    "# Plot a scatterplot to Check how variables interact --> Quantity & UnitPrice\n",
    "# Set figure size\n",
    "plt.figure(figsize=(8, 5))\n",
    "\n",
    "# Create scatter plot\n",
    "sns.scatterplot(x=df_zscore['Quantity'], y=df_zscore['UnitPrice'], alpha=0.5, color='darkblue')\n",
    "\n",
    "# Set titles and labels\n",
    "plt.title('Scatter Plot of Quantity vs. Unit Price')\n",
    "plt.xlabel('Quantity')\n",
    "plt.ylabel('Unit Price')\n",
    "plt.show()"
   ]
  },
  {
   "cell_type": "markdown",
   "metadata": {},
   "source": [
    "### Numerical & Categorical Features"
   ]
  },
  {
   "cell_type": "code",
   "execution_count": null,
   "metadata": {},
   "outputs": [],
   "source": [
    "# Plot box and bar plots to view relationships between numerical and categorical variables --> Quantity & Country\n",
    "# Count occurrences of each country and sort in descending order  \n",
    "country_counts = df_zscore['Country'].value_counts().reset_index()  \n",
    "country_counts.columns = ['Country', 'Count']                             # Rename columns  \n",
    "country_counts = country_counts.sort_values(by='Count', ascending=False).head(10)    # Keep top 10 countries   \n",
    "\n",
    "# Set figure size\n",
    "fig, axes = plt.subplots(1, 2, figsize=(18, 6))         # 1 row, 2 columns\n",
    "\n",
    "# Boxplot: Distribution of Quantity by Country\n",
    "sns.boxplot(x='Country', y='Quantity', data=df_zscore, palette='Greens_r', \n",
    "            order=country_counts['Country'], ax=axes[0])\n",
    "# Set titles and labels\n",
    "axes[0].set_title(f'Quantity Distribution by Country (Top {10})')\n",
    "axes[0].set_xlabel('')\n",
    "axes[0].set_ylabel('')\n",
    "axes[0].tick_params(axis='x', rotation=45)        # Rotate x-axis labels for better readability\n",
    "\n",
    "# Barplot: Average Quantity Sold per Country\n",
    "sns.barplot(x='Country', y='Quantity', data=df_zscore, palette='Greens_r', \n",
    "            order=country_counts['Country'], estimator=np.mean, ax=axes[1])\n",
    "# Set titles and labels\n",
    "axes[1].set_title(f'Average Quantity Sold by Country (Top {10})')\n",
    "axes[1].set_xlabel('')\n",
    "axes[1].set_ylabel('')\n",
    "axes[1].tick_params(axis='x', rotation=45)        # Rotate x-axis labels for better readability\n",
    "\n",
    "plt.tight_layout()               # Adjust the spacing between plots\n",
    "plt.show()"
   ]
  },
  {
   "cell_type": "code",
   "execution_count": null,
   "metadata": {},
   "outputs": [],
   "source": [
    "# Plot box and bar plots to view relationships between numerical and categorical variables --> UnitPrice & Country\n",
    "# Count occurrences of each country and sort in descending order  \n",
    "country_counts = df_zscore['Country'].value_counts().reset_index()  \n",
    "country_counts.columns = ['Country', 'Count']                             # Rename columns  \n",
    "country_counts = country_counts.sort_values(by='Count', ascending=False).head(10)    # Keep top 10 countries\n",
    "\n",
    "# Set figure size\n",
    "fig, axes = plt.subplots(1, 2, figsize=(18, 6))         # 1 row, 2 columns\n",
    "\n",
    "# Boxplot: Distribution of UnitPrice by Country\n",
    "sns.boxplot(x='Country', y='UnitPrice', data=df_zscore, palette='YlGn_r', \n",
    "            order=country_counts['Country'], ax=axes[0])\n",
    "# Set titles and labels\n",
    "axes[0].set_title(f'UnitPrice Distribution by Country (Top {10})')\n",
    "axes[0].set_xlabel('')\n",
    "axes[0].set_ylabel('')\n",
    "axes[0].tick_params(axis='x', rotation=45)        # Rotate x-axis labels for better readability\n",
    "\n",
    "# Barplot: Average UnitPrice Sold per Country\n",
    "sns.barplot(x='Country', y='UnitPrice', data=df_zscore, palette='YlGn_r', \n",
    "            order=country_counts['Country'], estimator=np.mean, ax=axes[1])\n",
    "# Set titles and labels\n",
    "axes[1].set_title(f'Average UnitPrice Sold by Country (Top {10})')\n",
    "axes[1].set_xlabel('')\n",
    "axes[1].set_ylabel('')\n",
    "axes[1].tick_params(axis='x', rotation=45)        # Rotate x-axis labels for better readability\n",
    "\n",
    "plt.tight_layout()               # Adjust the spacing between plots\n",
    "plt.show()"
   ]
  },
  {
   "cell_type": "code",
   "execution_count": null,
   "metadata": {},
   "outputs": [],
   "source": [
    "# Plot box and bar plots to view relationships between numerical and categorical variables --> Quantity & CustomerID\n",
    "# Count occurrences of each CustomerID and sort in descending order\n",
    "customer_counts = df_zscore['CustomerID'].value_counts().reset_index()\n",
    "customer_counts.columns = ['CustomerID', 'Count']           # Rename columns\n",
    "customer_counts = customer_counts.sort_values(by='Count', ascending=False).head(10)    # Keep top 10 customers   \n",
    "\n",
    "# Set figure size\n",
    "fig, axes = plt.subplots(1, 2, figsize=(18, 6))         # 1 row, 2 columns\n",
    "\n",
    "# Boxplot: Distribution of Quantity by CustomerID\n",
    "sns.boxplot(x='CustomerID', y='Quantity', data=df_zscore, palette='YlOrBr_r', \n",
    "            order=customer_counts['CustomerID'], ax=axes[0])\n",
    "# Set titles and labels\n",
    "axes[0].set_title(f'Quantity Distribution by CustomerID (Top {10})')\n",
    "axes[0].set_xlabel('')\n",
    "axes[0].set_ylabel('')\n",
    "axes[0].tick_params(axis='x', rotation=45)        # Rotate x-axis labels for better readability\n",
    "\n",
    "# Barplot: Average Quantity Sold per CustomerID\n",
    "sns.barplot(x='CustomerID', y='Quantity', data=df_zscore, palette='YlOrBr_r', \n",
    "            order=customer_counts['CustomerID'], estimator=np.mean, ax=axes[1])\n",
    "# Set titles and labels\n",
    "axes[1].set_title(f'Average Quantity Sold by CustomerID (Top {10})')\n",
    "axes[1].set_xlabel('')\n",
    "axes[1].set_ylabel('')\n",
    "axes[1].tick_params(axis='x', rotation=45)        # Rotate x-axis labels for better readability\n",
    "\n",
    "plt.tight_layout()               # Adjust the spacing between plots\n",
    "plt.show()"
   ]
  },
  {
   "cell_type": "code",
   "execution_count": null,
   "metadata": {},
   "outputs": [],
   "source": [
    "# Plot box and bar plots to view relationships between numerical and categorical variables --> UnitPrice & CustomerID\n",
    "# Count occurrences of each CustomerID and sort in descending order\n",
    "customer_counts = df_zscore['CustomerID'].value_counts().reset_index()\n",
    "customer_counts.columns = ['CustomerID', 'Count']           # Rename columns\n",
    "customer_counts = customer_counts.sort_values(by='Count', ascending=False).head(10)    # Keep top 10 customers   \n",
    "\n",
    "# Set figure size\n",
    "fig, axes = plt.subplots(1, 2, figsize=(18, 6))         # 1 row, 2 columns\n",
    "\n",
    "# Boxplot: Distribution of UnitPrice by CustomerID\n",
    "sns.boxplot(x='CustomerID', y='UnitPrice', data=df_zscore, palette='YlOrRd_r', \n",
    "            order=customer_counts['CustomerID'], ax=axes[0])\n",
    "# Set titles and labels\n",
    "axes[0].set_title(f'UnitPrice Distribution by CustomerID (Top {10})')\n",
    "axes[0].set_xlabel('')\n",
    "axes[0].set_ylabel('')\n",
    "axes[0].tick_params(axis='x', rotation=45)        # Rotate x-axis labels for better readability\n",
    "\n",
    "# Barplot: Average UnitPrice Sold per CustomerID\n",
    "sns.barplot(x='CustomerID', y='UnitPrice', data=df_zscore, palette='YlOrRd_r', \n",
    "            order=customer_counts['CustomerID'], estimator=np.mean, ax=axes[1])\n",
    "# Set titles and labels\n",
    "axes[1].set_title(f'Average UnitPrice Sold by CustomerID (Top {10})')\n",
    "axes[1].set_xlabel('')\n",
    "axes[1].set_ylabel('')\n",
    "axes[1].tick_params(axis='x', rotation=45)        # Rotate x-axis labels for better readability\n",
    "\n",
    "plt.tight_layout()               # Adjust the spacing between plots\n",
    "plt.show()"
   ]
  },
  {
   "cell_type": "code",
   "execution_count": null,
   "metadata": {},
   "outputs": [],
   "source": [
    "# Plot box and bar plots to view relationships between numerical and categorical variables --> Quantity & StockCode\n",
    "# Count occurrences of each StockCode and sort in descending order\n",
    "stock_counts = df_zscore['StockCode'].value_counts().reset_index()\n",
    "stock_counts.columns = ['StockCode', 'Count']         # Rename columns\n",
    "stock_counts = stock_counts.sort_values(by='Count', ascending=False).head(10)    # Keep top 10 best-selling products\n",
    "\n",
    "# Set figure size\n",
    "fig, axes = plt.subplots(1, 2, figsize=(18, 6))         # 1 row, 2 columns\n",
    "\n",
    "# Boxplot: Distribution of Quantity by StockCode\n",
    "sns.boxplot(x='StockCode', y='Quantity', data=df_zscore, palette='dark:salmon', \n",
    "            order=stock_counts['StockCode'], ax=axes[0])\n",
    "# Set titles and labels\n",
    "axes[0].set_title(f'Quantity Distribution by StockCode (Top {10})')\n",
    "axes[0].set_xlabel('')\n",
    "axes[0].set_ylabel('')\n",
    "axes[0].tick_params(axis='x', rotation=45)        # Rotate x-axis labels for better readability\n",
    "\n",
    "# Barplot: Average Quantity Sold per StockCode\n",
    "sns.barplot(x='StockCode', y='Quantity', data=df_zscore, palette='dark:salmon', \n",
    "            order=stock_counts['StockCode'], estimator=np.mean, ax=axes[1])\n",
    "# Set titles and labels\n",
    "axes[1].set_title(f'Average Quantity Sold by StockCode (Top {10})')\n",
    "axes[1].set_xlabel('')\n",
    "axes[1].set_ylabel('')\n",
    "axes[1].tick_params(axis='x', rotation=45)        # Rotate x-axis labels for better readability\n",
    "\n",
    "plt.tight_layout()               # Adjust the spacing between plots\n",
    "plt.show()"
   ]
  },
  {
   "cell_type": "code",
   "execution_count": null,
   "metadata": {},
   "outputs": [],
   "source": [
    "# Plot box and bar plots to view relationships between numerical and categorical variables --> UnitPrice & StockCode\n",
    "# Count occurrences of each StockCode and sort in descending order\n",
    "stock_counts = df_zscore['StockCode'].value_counts().reset_index()\n",
    "stock_counts.columns = ['StockCode', 'Count']         # Rename columns\n",
    "stock_counts = stock_counts.sort_values(by='Count', ascending=False).head(10)    # Keep top 10 best-selling products\n",
    "\n",
    "# Set figure size\n",
    "fig, axes = plt.subplots(1, 2, figsize=(18, 6))         # 1 row, 2 columns\n",
    "\n",
    "# Boxplot: Distribution of UnitPrice by StockCode\n",
    "sns.boxplot(x='StockCode', y='UnitPrice', data=df_zscore, palette='rocket', \n",
    "            order=stock_counts['StockCode'], ax=axes[0])\n",
    "# Set titles and labels\n",
    "axes[0].set_title(f'UnitPrice Distribution by StockCode (Top {10})')\n",
    "axes[0].set_xlabel('')\n",
    "axes[0].set_ylabel('')\n",
    "axes[0].tick_params(axis='x', rotation=45)        # Rotate x-axis labels for better readability\n",
    "\n",
    "# Barplot: Average UnitPrice Sold per StockCode\n",
    "sns.barplot(x='StockCode', y='UnitPrice', data=df_zscore, palette='rocket', \n",
    "            order=stock_counts['StockCode'], estimator=np.mean, ax=axes[1])\n",
    "# Set titles and labels\n",
    "axes[1].set_title(f'Average UnitPrice Sold by StockCode (Top {10})')\n",
    "axes[1].set_xlabel('')\n",
    "axes[1].set_ylabel('')\n",
    "axes[1].tick_params(axis='x', rotation=45)        # Rotate x-axis labels for better readability\n",
    "\n",
    "plt.tight_layout()               # Adjust the spacing between plots\n",
    "plt.show()"
   ]
  },
  {
   "cell_type": "markdown",
   "metadata": {},
   "source": [
    "### Categorical Features"
   ]
  },
  {
   "cell_type": "code",
   "execution_count": null,
   "metadata": {},
   "outputs": [],
   "source": [
    "# Plot a heatmap to view relationships between variables --> Country & StockCode\n",
    "# Create a cross-tabulation between Country and StockCode\n",
    "country_stock = pd.crosstab(df_zscore['Country'], df_zscore['StockCode'])\n",
    "\n",
    "# Filter top 10 countries and top 10 stock codes for better readability\n",
    "top_countries = df_zscore['Country'].value_counts().head(10).index\n",
    "top_stocks = df_zscore['StockCode'].value_counts().head(10).index\n",
    "filtered_data = country_stock.loc[top_countries, top_stocks]\n",
    "\n",
    "# Plot heatmap\n",
    "plt.figure(figsize=(12, 6))\n",
    "sns.heatmap(filtered_data, annot=True, fmt='d', cmap='crest')\n",
    "\n",
    "# Set titles and labels\n",
    "plt.title('Top 10 Countries vs Top 10 Products (StockCode)')\n",
    "plt.xlabel('')\n",
    "plt.ylabel('')\n",
    "plt.tight_layout()\n",
    "plt.show()"
   ]
  },
  {
   "cell_type": "code",
   "execution_count": null,
   "metadata": {},
   "outputs": [],
   "source": [
    "# Plot a bar chart to view relationships between variables --> Country & StockCode\n",
    "# Select a country (e.g. UK)\n",
    "selected_country = 'United Kingdom'\n",
    "\n",
    "# Filter for that country\n",
    "df_country = df_zscore[df_zscore['Country'] == selected_country]\n",
    "\n",
    "# Group by StockCode and Count\n",
    "stockcode_counts = df_country['StockCode'].value_counts().head(10).reset_index()           # Keep top 10\n",
    "stockcode_counts.columns = ['StockCode', 'Count']\n",
    "\n",
    "# Plot barplot\n",
    "plt.figure(figsize=(10, 6))\n",
    "sns.barplot(data=stockcode_counts, x='StockCode', y='Count', palette='crest_r',\n",
    "            order=stockcode_counts['StockCode'])\n",
    "\n",
    "# Set titles and labels\n",
    "plt.title(f'Top 10 StockCodes in {selected_country}')\n",
    "plt.xlabel('')\n",
    "plt.ylabel('Count')\n",
    "plt.xticks(rotation=45)\n",
    "plt.tight_layout()\n",
    "plt.show()"
   ]
  },
  {
   "cell_type": "code",
   "execution_count": null,
   "metadata": {},
   "outputs": [],
   "source": [
    "# Plot a heatmap to view relationships between variables --> Country & CustomerID\n",
    "# Create a cross-tabulation between Country and CustomerID\n",
    "country_customer = pd.crosstab(df_zscore['Country'], df_zscore['CustomerID'])\n",
    "\n",
    "# Filter top 10 countries and top 10 customerIDs for better readability\n",
    "top_countries = df_zscore['Country'].value_counts().head(10).index\n",
    "top_CustomerIDs = df_zscore['CustomerID'].value_counts().head(10).index\n",
    "filtered_data = country_customer.loc[top_countries, top_CustomerIDs]\n",
    "\n",
    "# Plot heatmap\n",
    "plt.figure(figsize=(12, 6))\n",
    "sns.heatmap(filtered_data, annot=True, fmt='d', cmap='mako_r')\n",
    "\n",
    "# Set titles and labels\n",
    "plt.title('Top 10 Countries vs Top 10 CustomerIDs')\n",
    "plt.xlabel('')\n",
    "plt.ylabel('')\n",
    "plt.tight_layout()\n",
    "plt.show()"
   ]
  },
  {
   "cell_type": "code",
   "execution_count": null,
   "metadata": {},
   "outputs": [],
   "source": [
    "# Plot a bar chart to view relationships between variables --> Country & CustomerID\n",
    "# Select a country (e.g. UK)\n",
    "selected_country = 'United Kingdom'\n",
    "\n",
    "# Filter for that country\n",
    "df_country = df_zscore[df_zscore['Country'] == selected_country]\n",
    "\n",
    "# Group by CustomerID and Count\n",
    "customerID_counts = df_country['CustomerID'].value_counts().head(10).reset_index()           # Keep top 10\n",
    "customerID_counts.columns = ['CustomerID', 'Count']\n",
    "\n",
    "# Plot barplot\n",
    "plt.figure(figsize=(10, 6))\n",
    "sns.barplot(data=customerID_counts, x='CustomerID', y='Count', palette='mako',\n",
    "            order=customerID_counts['CustomerID'])\n",
    "\n",
    "# Set titles and labels\n",
    "plt.title(f'Top 10 CustomerID in {selected_country}')\n",
    "plt.xlabel('')\n",
    "plt.ylabel('Count')\n",
    "plt.xticks(rotation=45)\n",
    "plt.tight_layout()\n",
    "plt.show()"
   ]
  },
  {
   "cell_type": "code",
   "execution_count": null,
   "metadata": {},
   "outputs": [],
   "source": [
    "# Plot a heatmap to view relationships between variables --> StockCode & CustomerID\n",
    "# Create a cross-tabulation between StockCode and CustomerID\n",
    "stock_customer = pd.crosstab(df_zscore['StockCode'], df_zscore['CustomerID'])\n",
    "\n",
    "# Filter top 10 stock codes and top 10 customerIDs for better readability\n",
    "top_stocks = df_zscore['StockCode'].value_counts().head(10).index\n",
    "top_CustomerIDs = df_zscore['CustomerID'].value_counts().head(10).index\n",
    "filtered_data = stock_customer.loc[top_stocks, top_CustomerIDs]\n",
    "\n",
    "# Plot heatmap\n",
    "plt.figure(figsize=(12, 6))\n",
    "sns.heatmap(filtered_data, annot=True, fmt='d', cmap='flare')\n",
    "\n",
    "# Set titles and labels\n",
    "plt.title('Top 10 Stock Codes vs Top 10 CustomerIDs')\n",
    "plt.xlabel('')\n",
    "plt.ylabel('')\n",
    "plt.tight_layout()\n",
    "plt.show()"
   ]
  },
  {
   "cell_type": "code",
   "execution_count": null,
   "metadata": {},
   "outputs": [],
   "source": [
    "# Plot a bar chart to view relationships between variables --> StockCode & CustomerID\n",
    "# Select a StockCode (e.g. 85123A)\n",
    "selected_stockcode = '85123A'\n",
    "\n",
    "# Filter for that stockcode\n",
    "df_stockcode = df_zscore[df_zscore['StockCode'] == selected_stockcode]\n",
    "\n",
    "# Group by CustomerID and Count\n",
    "customerID_counts = df_stockcode['CustomerID'].value_counts().head(10).reset_index()           # Keep top 10\n",
    "customerID_counts.columns = ['CustomerID', 'Count']\n",
    "\n",
    "# Plot barplot\n",
    "plt.figure(figsize=(10, 6))\n",
    "sns.barplot(data=customerID_counts, x='CustomerID', y='Count', palette='flare_r',\n",
    "            order=customerID_counts['CustomerID'])\n",
    "\n",
    "# Set titles and labels\n",
    "plt.title(f'Top 10 CustomerID in {selected_stockcode}')\n",
    "plt.xlabel('')\n",
    "plt.ylabel('Count')\n",
    "plt.xticks(rotation=45)\n",
    "plt.tight_layout()\n",
    "plt.show()"
   ]
  },
  {
   "cell_type": "markdown",
   "metadata": {},
   "source": [
    "<div id=\"analyze-trends\"> \n",
    "    <h2>Analyze Trends</h2>    \n",
    "</div>"
   ]
  },
  {
   "cell_type": "code",
   "execution_count": null,
   "metadata": {},
   "outputs": [],
   "source": [
    "# Plot a time series plot to analyze trends over time --> Monthly 'Quantity' trend \n",
    "# Create a 'InvoiceMonth' column for monthly trend\n",
    "df_zscore['InvoiceMonth'] = df_zscore['InvoiceDate'].dt.to_period('M').dt.to_timestamp()\n",
    "\n",
    "# Group by month and calculate total quantity sold\n",
    "monthly_trend = df_zscore.groupby('InvoiceMonth')['Quantity'].sum().reset_index()\n",
    "\n",
    "# Plot the monthly trend\n",
    "plt.figure(figsize=(12, 6))\n",
    "sns.lineplot(data=monthly_trend, x='InvoiceMonth', y='Quantity', marker='o', color='royalblue')\n",
    "\n",
    "# Set titles and labels\n",
    "plt.title('Monthly Total Quantity Trend')\n",
    "plt.xlabel('')\n",
    "plt.ylabel('Total Quantity Sold')\n",
    "plt.tight_layout()\n",
    "plt.show()"
   ]
  },
  {
   "cell_type": "code",
   "execution_count": null,
   "metadata": {},
   "outputs": [],
   "source": [
    "# Plot a time series plot to analyze trends over time --> Monthly 'TotalPrice' trend \n",
    "# Create 'TotalPrice' feature \n",
    "df_zscore['TotalPrice'] = df_zscore['Quantity'] * df_zscore['UnitPrice']\n",
    "\n",
    "# Group by month and calculate total price sold\n",
    "monthly_trend = df_zscore.groupby('InvoiceMonth')['TotalPrice'].sum().reset_index()\n",
    "\n",
    "# Plot the monthly trend\n",
    "plt.figure(figsize=(12, 6))\n",
    "sns.lineplot(data=monthly_trend, x='InvoiceMonth', y='TotalPrice', marker='o', color='darkblue')\n",
    "\n",
    "# Set titles and labels\n",
    "plt.title('Monthly Total Price Trend')\n",
    "plt.xlabel('')\n",
    "plt.ylabel('Total Price Sold')\n",
    "plt.tight_layout()\n",
    "plt.show()"
   ]
  },
  {
   "cell_type": "code",
   "execution_count": null,
   "metadata": {},
   "outputs": [],
   "source": [
    "# Plot a time series plot to analyze trends over time --> Weekly 'TotalPrice' trend\n",
    "# Create a 'InvoiceWeek' column for weekly trend\n",
    "df_zscore['InvoiceWeek'] = df_zscore['InvoiceDate'].dt.to_period('W').dt.to_timestamp()\n",
    "\n",
    "# Group by week and calculate total price sold\n",
    "weekly_trend = weekly_trend = df_zscore.groupby('InvoiceWeek')['TotalPrice'].sum().reset_index()\n",
    "\n",
    "# Plot the weekly trend\n",
    "plt.figure(figsize=(12, 6))\n",
    "sns.lineplot(data=weekly_trend, x='InvoiceWeek', y='TotalPrice', marker='o', color='green')\n",
    "\n",
    "# Set the date format for x-axis\n",
    "plt.gca().xaxis.set_major_formatter(mdates.DateFormatter('%W'))        # Format: Year-Week\n",
    "plt.gca().xaxis.set_major_locator(mdates.WeekdayLocator(interval=1))   # Adjust the interval for weekly ticks\n",
    "\n",
    "# Set titles and labels\n",
    "plt.title('Weekly Total Price Trend')\n",
    "plt.xlabel('')\n",
    "plt.ylabel('Total Price Sold')\n",
    "plt.tight_layout()\n",
    "plt.show()"
   ]
  },
  {
   "cell_type": "code",
   "execution_count": null,
   "metadata": {},
   "outputs": [],
   "source": [
    "# Plot a time series plot to analyze trends over time --> Monthly 'TotalPrice' trend based on 'Country'\n",
    "# Get top 5 countries by total price\n",
    "top_countries = df_zscore.groupby('Country')['TotalPrice'].sum().sort_values(ascending=False).head(5).index.tolist()     # Top 5 countries\n",
    "\n",
    "# Filter data for only top countries\n",
    "df_top_countries = df_zscore[df_zscore['Country'].isin(top_countries)].copy()\n",
    "\n",
    "# Group by month and country, then sum total price\n",
    "monthly_country_trend = df_top_countries.groupby(['InvoiceMonth', 'Country'])['TotalPrice'].sum().reset_index()\n",
    "\n",
    "# Plot the monthly trend\n",
    "plt.figure(figsize=(14, 6))\n",
    "sns.lineplot(data=monthly_country_trend, x='InvoiceMonth', y='TotalPrice', hue='Country', marker='o',\n",
    "             hue_order=top_countries)       \n",
    "\n",
    "# Set titles and labels\n",
    "plt.title('Monthly Total Price Trend for Top 5 Countries')\n",
    "plt.xlabel('')\n",
    "plt.ylabel('Total Price Sold')\n",
    "plt.tight_layout()\n",
    "plt.show()"
   ]
  },
  {
   "cell_type": "code",
   "execution_count": null,
   "metadata": {},
   "outputs": [],
   "source": [
    "# Plot a time series plot to analyze trends over time --> Monthly 'TotalPrice' trend based on 'StockCode'\n",
    "# Get top 5 most sold products by total price\n",
    "top_stockcodes = df_zscore.groupby('StockCode')['TotalPrice'].sum().sort_values(ascending=False).head(5).index.tolist()     # Top 5 stockcodes\n",
    "\n",
    "# Filter data for only top products (stockcodes)\n",
    "df_top_stockcodes = df_zscore[df_zscore['StockCode'].isin(top_stockcodes)].copy()\n",
    "\n",
    "# Group by month and stockcode, then sum total price\n",
    "monthly_stockcode_trend = df_top_stockcodes.groupby(['InvoiceMonth', 'StockCode'])['TotalPrice'].sum().reset_index()\n",
    "\n",
    "# Plot the monthly trend\n",
    "plt.figure(figsize=(14, 6))\n",
    "sns.lineplot(data=monthly_stockcode_trend, x='InvoiceMonth', y='TotalPrice', hue='StockCode', marker='o',\n",
    "             hue_order=top_stockcodes)\n",
    "\n",
    "# Set titles and labels\n",
    "plt.title('Monthly Total Price Trend for Top 5 StockCodes')\n",
    "plt.xlabel('')\n",
    "plt.ylabel('Total Price Sold')\n",
    "plt.tight_layout()\n",
    "plt.show()"
   ]
  },
  {
   "cell_type": "code",
   "execution_count": null,
   "metadata": {},
   "outputs": [],
   "source": [
    "# Plot a time series plot to analyze trends over time --> Monthly 'TotalPrice' trend based on 'CustomerID'\n",
    "# Get top 5 customerIDs by total price\n",
    "top_customerIDs = df_zscore.groupby('CustomerID')['TotalPrice'].sum().sort_values(ascending=False).head(5).index.tolist()     # Top 5 customerIDs\n",
    "\n",
    "# Filter data for only top customerIDs\n",
    "df_top_customerIDs = df_zscore[df_zscore['CustomerID'].isin(top_customerIDs)].copy()\n",
    "\n",
    "# Group by month and customerID, then sum total price\n",
    "monthly_customerIDs_trend = df_top_customerIDs.groupby(['InvoiceMonth', 'CustomerID'])['TotalPrice'].sum().reset_index()\n",
    "\n",
    "# Plot the monthly trend\n",
    "plt.figure(figsize=(14, 6))\n",
    "sns.lineplot(data=monthly_customerIDs_trend, x='InvoiceMonth', y='TotalPrice', hue='CustomerID', marker='o',\n",
    "             hue_order=top_customerIDs)\n",
    "\n",
    "# Set titles and labels\n",
    "plt.title('Monthly Total Price Trend for Top 5 CustomerIDs')\n",
    "plt.xlabel('')\n",
    "plt.ylabel('Total Price Sold')\n",
    "plt.tight_layout()\n",
    "plt.show()"
   ]
  },
  {
   "cell_type": "markdown",
   "metadata": {},
   "source": [
    "<div id=\"cohort-analysis\"> \n",
    "    <h2>Cohort Analysis</h2>    \n",
    "</div>\n",
    "In this analysis, customers are grouped based on when they first purchased (e.g., the month they first purchased), then it is examined how active they remain and return to purchase in subsequent months."
   ]
  },
  {
   "cell_type": "code",
   "execution_count": null,
   "metadata": {},
   "outputs": [],
   "source": [
    "# Cohort analysis to identify customer behaviors at different times \n",
    "# Create the 'CohortMonth': the month of the customer's first purchase\n",
    "df_zscore['CohortMonth'] = df_zscore.groupby('CustomerID')['InvoiceMonth'].transform('min')\n",
    "\n",
    "# Calculate the number of months between the invoice date and the cohort month\n",
    "def get_month_diff(df):\n",
    "    return (df_zscore['InvoiceMonth'].dt.year - df_zscore['CohortMonth'].dt.year) * 12 + \\\n",
    "           (df_zscore['InvoiceMonth'].dt.month - df_zscore['CohortMonth'].dt.month)\n",
    "\n",
    "df_zscore['CohortIndex'] = get_month_diff(df_zscore) + 1      # Month index starts at 1\n",
    "\n",
    "# Count unique customers in each CohortMonth and CohortIndex\n",
    "cohort_data = df_zscore.groupby(['CohortMonth', 'CohortIndex'])['CustomerID'].nunique().reset_index()\n",
    "\n",
    "# Pivot the data to create a retention matrix\n",
    "cohort_counts = cohort_data.pivot(index='CohortMonth', columns='CohortIndex', values='CustomerID')\n",
    "\n",
    "# Get cohort sizes (number of customers in the first month)\n",
    "cohort_sizes = cohort_counts.iloc[:, 0]\n",
    "\n",
    "# Calculate retention rates\n",
    "retention = cohort_counts.divide(cohort_sizes, axis=0).round(3)\n",
    "\n",
    "# Format CohortMonth to show only YYYY-MM\n",
    "retention.index = retention.index.to_series().dt.strftime('%Y-%m')\n",
    "\n",
    "# Plot the retention matrix heatmap\n",
    "plt.figure(figsize=(12, 8))\n",
    "sns.heatmap(retention, annot=True, fmt='.0%', cmap='BuGn', cbar=True)\n",
    "\n",
    "# Set titles and labels\n",
    "plt.title('Cohort Analysis - Customer Retention')\n",
    "plt.xlabel('Cohort Month Index')\n",
    "plt.ylabel('Cohort Start Month')\n",
    "plt.show()"
   ]
  },
  {
   "cell_type": "markdown",
   "metadata": {},
   "source": [
    "<div id=\"time-based-heatmap\"> \n",
    "    <h2>Time-based Heatmap</h2>    \n",
    "</div>"
   ]
  },
  {
   "cell_type": "code",
   "execution_count": null,
   "metadata": {},
   "outputs": [],
   "source": [
    "# Plot a heatmap to show what times of the week customers had the most interaction\n",
    "# Extract Hour and Day of Week\n",
    "df_zscore['Hour'] = df_zscore['InvoiceDate'].dt.hour\n",
    "df_zscore['DayOfWeek'] = df_zscore['InvoiceDate'].dt.dayofweek  # Monday=0, Sunday=6\n",
    "\n",
    "# Map day numbers to names\n",
    "day_labels = ['Mon', 'Tue', 'Wed', 'Thu', 'Fri', 'Sat', 'Sun']\n",
    "df_zscore['DayOfWeek'] = df_zscore['DayOfWeek'].apply(lambda x: day_labels[x])\n",
    "\n",
    "# Create pivot table: count of invoices per DayOfWeek and Hour\n",
    "time_heatmap = df_zscore.pivot_table(index='DayOfWeek', columns='Hour', \n",
    "                                     values='InvoiceNo', aggfunc='count').fillna(0)\n",
    "\n",
    "# Reorder days for visual clarity\n",
    "day_order = ['Mon', 'Tue', 'Wed', 'Thu', 'Fri', 'Sat', 'Sun']\n",
    "time_heatmap = time_heatmap.reindex(day_order)\n",
    "\n",
    "# Plot the heatmap\n",
    "plt.figure(figsize=(14, 6))\n",
    "sns.heatmap(time_heatmap, cmap='YlGnBu', annot=True, fmt='.0f')\n",
    "\n",
    "# Set titles and labels\n",
    "plt.title('Time-based Heatmap: Invoice Count by Day and Hour')\n",
    "plt.xlabel('Hour of Day')\n",
    "plt.ylabel('')\n",
    "plt.show()"
   ]
  },
  {
   "cell_type": "code",
   "execution_count": null,
   "metadata": {},
   "outputs": [],
   "source": [
    "# Plot a heatmap to show what times of the week the highest amount of sales occurred\n",
    "# Create pivot table: total sales per DayOfWeek and Hour\n",
    "sales_heatmap = df_zscore.pivot_table(index='DayOfWeek', columns='Hour',\n",
    "                                      values='TotalPrice', aggfunc='sum').fillna(0)\n",
    "\n",
    "# Reorder days for visual clarity\n",
    "day_order = ['Mon', 'Tue', 'Wed', 'Thu', 'Fri', 'Sat', 'Sun']\n",
    "sales_heatmap = sales_heatmap.reindex(day_order)\n",
    "\n",
    "# Plot the heatmap\n",
    "plt.figure(figsize=(14, 6))\n",
    "sns.heatmap(sales_heatmap, cmap='YlOrRd', annot=True, fmt='.0f')\n",
    "\n",
    "# Set titles and labels\n",
    "plt.title('Time-based Heatmap: Total Sales by Day and Hour')\n",
    "plt.xlabel('Hour of Day')\n",
    "plt.ylabel('')\n",
    "plt.show()"
   ]
  },
  {
   "cell_type": "code",
   "execution_count": null,
   "metadata": {},
   "outputs": [],
   "source": [
    "# Plot a heatmap to show what times of the week the number of products sold\n",
    "#Create pivot table: total quantity sold per DayOfWeek and Hour\n",
    "quantity_heatmap = df_zscore.pivot_table(index='DayOfWeek', columns='Hour',\n",
    "                                         values='Quantity', aggfunc='sum').fillna(0)\n",
    "\n",
    "# Reorder days for visual clarity\n",
    "day_order = ['Mon', 'Tue', 'Wed', 'Thu', 'Fri', 'Sat', 'Sun']\n",
    "quantity_heatmap = quantity_heatmap.reindex(day_order)\n",
    "\n",
    "# Plot the heatmap\n",
    "plt.figure(figsize=(14, 6))\n",
    "sns.heatmap(quantity_heatmap, cmap='PuBuGn', annot=True, fmt='.0f')\n",
    "\n",
    "# Set titles and labels\n",
    "plt.title('Time-based Heatmap: Quantity Sold by Day and Hour')\n",
    "plt.xlabel('Hour of Day')\n",
    "plt.ylabel('')\n",
    "plt.show()"
   ]
  },
  {
   "cell_type": "markdown",
   "metadata": {},
   "source": [
    "<div id=\"seasonal-holiday-trends-analysis\"> \n",
    "    <h2>Seasonal & Holiday Trends Analysis</h2>    \n",
    "</div>"
   ]
  },
  {
   "cell_type": "code",
   "execution_count": null,
   "metadata": {},
   "outputs": [],
   "source": [
    "# Plot bar & line plots to find seasonal sales trend\n",
    "# Extract season (1=Winter, 2=Spring, etc.)\n",
    "df_zscore['Season'] = df_zscore['InvoiceDate'].dt.month % 12 // 3 + 1\n",
    "\n",
    "# Map numeric seasons to names\n",
    "season_map = {1: 'Winter', 2: 'Spring', 3: 'Summer', 4: 'Autumn'}\n",
    "df_zscore['Season'] = df_zscore['Season'].map(season_map)\n",
    "\n",
    "# Calculate total sales for each season\n",
    "season_sales = df_zscore.groupby('Season')['TotalPrice'].sum().reindex(['Winter', 'Spring', 'Summer', 'Autumn'])\n",
    "\n",
    "# Plot combined barplot and lineplot\n",
    "plt.figure(figsize=(10, 6))\n",
    "\n",
    "# Plot the barplot\n",
    "ax = sns.barplot(x=season_sales.index, y=season_sales.values, palette='Paired', label='Bar Plot')\n",
    "\n",
    "# Plot the lineplot\n",
    "ax2 = ax.twinx()\n",
    "sns.lineplot(x=season_sales.index, y=season_sales.values, color='darkred', marker='o', ax=ax2, label='Line Plot')\n",
    "\n",
    "# Add value labels on top of each bar\n",
    "for p in ax.patches:\n",
    "    ax.annotate(f'{p.get_height()}', (p.get_x() + p.get_width() / 2, p.get_height()),\n",
    "                ha='center', va='bottom', fontsize=8, color='black', fontweight='bold')\n",
    "\n",
    "# Set title and labels\n",
    "ax.set_title('Seasonal Sales Trend')\n",
    "ax.set_ylabel('Total Sales (Bar Plot)')\n",
    "ax2.set_ylabel('Total Sales (Line Plot)', color='darkred')\n",
    "ax.set_xlabel('')\n",
    "ax.set_yticks([])\n",
    "ax2.set_yticks([])\n",
    "plt.show()"
   ]
  },
  {
   "cell_type": "code",
   "execution_count": null,
   "metadata": {},
   "outputs": [],
   "source": [
    "# Plot bar & line plots to find seasonal customer activity\n",
    "# Count unique customers per season\n",
    "active_customers = df_zscore.groupby('Season')['CustomerID'].nunique().reindex(['Winter', 'Spring', 'Summer', 'Autumn'])\n",
    "\n",
    "# Plot combined barplot and lineplot\n",
    "plt.figure(figsize=(10, 6))\n",
    "\n",
    "# Plot the barplot\n",
    "ax = sns.barplot(x=active_customers.index, y=active_customers.values, palette='tab20', label='Bar Plot')\n",
    "\n",
    "# Plot the lineplot\n",
    "ax2 = ax.twinx()\n",
    "sns.lineplot(x=active_customers.index, y=active_customers.values, color='darkred', marker='o', ax=ax2, label='Line Plot')\n",
    "\n",
    "# Add value labels on top of each bar\n",
    "for p in ax.patches:\n",
    "    ax.annotate(f'{p.get_height()}', (p.get_x() + p.get_width() / 2, p.get_height()),\n",
    "                ha='center', va='bottom', fontsize=8, color='black', fontweight='bold')\n",
    "\n",
    "# Set title and labels\n",
    "ax.set_title('Active Customers by Season')\n",
    "ax.set_ylabel('Number of Unique Customers (Bar Plot)')\n",
    "ax2.set_ylabel('Number of Unique Customers (Line Plot)', color='darkred')\n",
    "ax.set_xlabel('')\n",
    "ax.set_yticks([])\n",
    "ax2.set_yticks([])\n",
    "plt.show()"
   ]
  },
  {
   "cell_type": "code",
   "execution_count": null,
   "metadata": {},
   "outputs": [],
   "source": [
    "# Plot lines to compare between sales on weekends (Saturday, Sunday) and normal days (Weekdays)\n",
    "# Extract date-only column for InvoiceDate\n",
    "df_zscore['Date'] = df_zscore['InvoiceDate'].dt.date\n",
    "\n",
    "# Identify weekends\n",
    "df_zscore['DayOfWeek'] = df_zscore['InvoiceDate'].dt.dayofweek  # 0=Monday, 6=Sunday\n",
    "df_zscore['DayType'] = df_zscore['DayOfWeek'].apply(lambda x: 'Weekend' if x in [5, 6] else 'Weekday')\n",
    "\n",
    "# Aggregate daily sales by DayType\n",
    "daily_sales = df_zscore.groupby(['Date', 'DayType'])['TotalPrice'].sum().reset_index()\n",
    "\n",
    "# Create pivot table for easier plotting\n",
    "pivot_df = daily_sales.pivot(index='Date', columns='DayType', values='TotalPrice')\n",
    "pivot_df = pivot_df.fillna(0)\n",
    "\n",
    "# Apply rolling average for smoothing\n",
    "pivot_df['Weekday_Smoothed'] = pivot_df['Weekday'].rolling(window=14, center=True).mean()\n",
    "pivot_df['Weekend_Smoothed'] = pivot_df['Weekend'].rolling(window=14, center=True).mean()\n",
    "\n",
    "# Plot smoothed lines\n",
    "plt.figure(figsize=(14,6))\n",
    "plt.plot(pivot_df.index, pivot_df['Weekday_Smoothed'], label='Weekday Sales', color='darkred')\n",
    "plt.plot(pivot_df.index, pivot_df['Weekend_Smoothed'], label='Weekend Sales', color='darkblue')\n",
    "\n",
    "# Set title and labels\n",
    "plt.title('Sales Trend: Weekdays vs Weekends')\n",
    "plt.xlabel('')\n",
    "plt.ylabel('Total Sales')\n",
    "plt.legend()\n",
    "plt.tight_layout()\n",
    "plt.show()"
   ]
  },
  {
   "cell_type": "code",
   "execution_count": null,
   "metadata": {},
   "outputs": [],
   "source": [
    "# Plot a boxplot to compare the sales distribution between weekdays and weekends\n",
    "# Extract DayType and TotalPrice for boxplot\n",
    "boxplot_data = df_zscore[['DayType', 'TotalPrice']]\n",
    "\n",
    "# Plot the boxplot\n",
    "plt.figure(figsize=(12, 6))\n",
    "sns.boxplot(data=boxplot_data, x='DayType', y='TotalPrice', palette=['#3498db', '#e74c3c'])\n",
    "\n",
    "# Set title and labels\n",
    "plt.title('Comparison of Sales Distribution: Weekdays vs Weekends')\n",
    "plt.xlabel('')\n",
    "plt.ylabel('Total Sales')\n",
    "plt.tight_layout()\n",
    "plt.show()"
   ]
  },
  {
   "cell_type": "code",
   "execution_count": null,
   "metadata": {},
   "outputs": [],
   "source": [
    "# Plot sales trends to find the effect of holidays on sales\n",
    "# Define holiday dates\n",
    "holiday_dates = {\n",
    "    'Christmas': pd.to_datetime('2010-12-25'),\n",
    "    'Valentine\\'s Day': pd.to_datetime('2011-02-14'),\n",
    "    'Black Friday': pd.to_datetime('2011-11-25')\n",
    "}\n",
    "\n",
    "# Group total sales by day\n",
    "daily_sales = df_zscore.groupby('InvoiceDayOnly')['TotalPrice'].sum().reset_index()\n",
    "daily_sales['InvoiceDayOnly'] = pd.to_datetime(daily_sales['InvoiceDayOnly'])\n",
    "\n",
    "# Calculate average daily sales (for all regular days)\n",
    "avg_daily_sales = daily_sales['TotalPrice'].mean()\n",
    "\n",
    "# Plot sales trends around holidays and compare with average\n",
    "plt.figure(figsize=(14, 6))\n",
    "for holiday_name, holiday_date in holiday_dates.items():\n",
    "    window_start = holiday_date - pd.Timedelta(days=7)\n",
    "    window_end = holiday_date + pd.Timedelta(days=7)\n",
    "\n",
    "    sales_window = daily_sales[\n",
    "        (daily_sales['InvoiceDayOnly'] >= window_start) &\n",
    "        (daily_sales['InvoiceDayOnly'] <= window_end)\n",
    "    ]\n",
    "\n",
    "    plt.plot(sales_window['InvoiceDayOnly'],\n",
    "             sales_window['TotalPrice'],\n",
    "             marker='o',\n",
    "             label=f\"{holiday_name} Window\")\n",
    "\n",
    "    # Highlight the exact holiday point\n",
    "    exact_point = sales_window[daily_sales['InvoiceDayOnly'] == holiday_date]\n",
    "    if not exact_point.empty:\n",
    "        plt.scatter(holiday_date,\n",
    "                    exact_point['TotalPrice'].values[0],\n",
    "                    color='red',\n",
    "                    s=120,\n",
    "                    edgecolors='black',\n",
    "                    zorder=5,\n",
    "                    label=f\"{holiday_name}\")\n",
    "\n",
    "# Plot average daily sales as a horizontal line\n",
    "plt.axhline(y=avg_daily_sales, color='darkred', linestyle='--', linewidth=2, label='Average Daily Sales')\n",
    "\n",
    "# Set title and labels\n",
    "plt.title('Sales Around Holidays Compared to Regular Daily Sales')\n",
    "plt.xlabel('')\n",
    "plt.ylabel('Total Sales')\n",
    "plt.legend()\n",
    "plt.tight_layout()\n",
    "plt.show()"
   ]
  }
 ],
 "metadata": {
  "kernelspec": {
   "display_name": "Python 3",
   "language": "python",
   "name": "python3"
  },
  "language_info": {
   "codemirror_mode": {
    "name": "ipython",
    "version": 3
   },
   "file_extension": ".py",
   "mimetype": "text/x-python",
   "name": "python",
   "nbconvert_exporter": "python",
   "pygments_lexer": "ipython3",
   "version": "3.8.0"
  }
 },
 "nbformat": 4,
 "nbformat_minor": 2
}
